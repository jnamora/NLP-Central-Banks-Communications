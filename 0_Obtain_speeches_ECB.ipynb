{
 "cells": [
  {
   "cell_type": "code",
   "execution_count": 23,
   "metadata": {},
   "outputs": [],
   "source": [
    "import requests\n",
    "import pandas as pd\n",
    "import io"
   ]
  },
  {
   "cell_type": "markdown",
   "metadata": {},
   "source": [
    "# Obtain the data from ECB Website"
   ]
  },
  {
   "cell_type": "code",
   "execution_count": 24,
   "metadata": {},
   "outputs": [],
   "source": [
    "# Obtain the speeches\n",
    "req = requests.get('https://www.ecb.europa.eu/press/key/shared/data/all_ECB_speeches.csv')\n",
    "url = req.content"
   ]
  },
  {
   "cell_type": "markdown",
   "metadata": {},
   "source": [
    "# Preprocess the data into a CSV"
   ]
  },
  {
   "cell_type": "code",
   "execution_count": 25,
   "metadata": {},
   "outputs": [],
   "source": [
    "# Read data into DataFrame\n",
    "data = pd.read_csv(io.StringIO(url.decode('utf-8')), sep='|', nrows=4000)\n",
    "\n",
    "# Convert date column to date_time\n",
    "data['date'] = pd.to_datetime(data.date)\n",
    "\n",
    "# Keep only specified columns\n",
    "data = data[['date', 'speakers', 'contents']]\n",
    "\n",
    "# Keep only speeches from ECB presidents\n",
    "data = data[data['speakers'].isin([\"Christine Lagarde\", \"Mario Draghi\", \"Jean-Claude Trichet\"])]\n",
    "\n",
    "# Drop rows with missing 'contents'\n",
    "data = data.dropna(subset=['contents'])\n",
    "\n",
    "# Save the preprocessed data to a new CSV file\n",
    "data.to_csv('all_ECB_speeches.csv', index=False)"
   ]
  }
 ],
 "metadata": {
  "kernelspec": {
   "display_name": "base",
   "language": "python",
   "name": "python3"
  },
  "language_info": {
   "codemirror_mode": {
    "name": "ipython",
    "version": 3
   },
   "file_extension": ".py",
   "mimetype": "text/x-python",
   "name": "python",
   "nbconvert_exporter": "python",
   "pygments_lexer": "ipython3",
   "version": "3.12.0"
  }
 },
 "nbformat": 4,
 "nbformat_minor": 2
}
